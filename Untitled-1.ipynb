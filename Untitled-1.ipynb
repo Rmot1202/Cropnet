{
 "cells": [
  {
   "cell_type": "code",
   "execution_count": null,
   "id": "84aaede1",
   "metadata": {},
   "outputs": [
    {
     "name": "stdout",
     "output_type": "stream",
     "text": [
      "Progress: [ 1/1 ], Downloading USDA Data, Year: 2022, Crop: Soybean\n",
      " Downloading Sentinel-2 Imagery (AG), Progress: [1 / 2], FIPS: 10003, State Name: DELAWARE, County Name: New Castle\n",
      "Year Progress: [1 / 1], Downloading 2023's AG Imagery for the county 10003\n"
     ]
    },
    {
     "name": "stderr",
     "output_type": "stream",
     "text": [
      "dates processed: 100%|██████████| 6/6 [00:00<00:00, 10.01it/s]\n",
      "dates processed: 100%|██████████| 6/6 [00:00<00:00, 11.36it/s]\n",
      "dates processed: 100%|██████████| 6/6 [00:00<00:00,  9.17it/s]\n",
      "dates processed: 100%|██████████| 6/6 [00:00<00:00,  9.91it/s]\n"
     ]
    },
    {
     "name": "stdout",
     "output_type": "stream",
     "text": [
      " Downloading Sentinel-2 Imagery (AG), Progress: [2 / 2], FIPS: 22007, State Name: LOUISIANA, County Name: Assumption\n",
      "Year Progress: [1 / 1], Downloading 2023's AG Imagery for the county 22007\n"
     ]
    },
    {
     "name": "stderr",
     "output_type": "stream",
     "text": [
      "dates processed: 100%|██████████| 6/6 [00:00<00:00, 10.74it/s]\n",
      "dates processed: 100%|██████████| 6/6 [00:00<00:00,  9.68it/s]\n",
      "dates processed: 100%|██████████| 6/6 [00:00<00:00, 10.80it/s]\n",
      "dates processed: 100%|██████████| 6/6 [00:00<00:00, 11.42it/s]\n"
     ]
    },
    {
     "name": "stdout",
     "output_type": "stream",
     "text": [
      " Downloading Sentinel-2 Imagery (NDVI), Progress: [1 / 2], FIPS: 10003, State Name: DELAWARE, County Name: New Castle\n",
      "Year Progress: [1 / 1], Downloading 2023's NDVI Imagery for the county 10003\n"
     ]
    },
    {
     "name": "stderr",
     "output_type": "stream",
     "text": [
      "dates processed: 100%|██████████| 6/6 [00:00<00:00,  9.93it/s]\n",
      "dates processed: 100%|██████████| 6/6 [00:00<00:00, 11.38it/s]\n",
      "dates processed: 100%|██████████| 6/6 [00:00<00:00, 11.45it/s]\n",
      "dates processed: 100%|██████████| 6/6 [00:00<00:00,  9.54it/s]\n"
     ]
    },
    {
     "name": "stdout",
     "output_type": "stream",
     "text": [
      " Downloading Sentinel-2 Imagery (NDVI), Progress: [2 / 2], FIPS: 22007, State Name: LOUISIANA, County Name: Assumption\n",
      "Year Progress: [1 / 1], Downloading 2023's NDVI Imagery for the county 22007\n"
     ]
    },
    {
     "name": "stderr",
     "output_type": "stream",
     "text": [
      "dates processed: 100%|██████████| 6/6 [00:00<00:00,  9.22it/s]\n",
      "dates processed: 100%|██████████| 6/6 [00:00<00:00, 11.04it/s]\n",
      "dates processed: 100%|██████████| 6/6 [00:00<00:00, 11.51it/s]\n",
      "dates processed: 100%|██████████| 6/6 [00:00<00:00, 11.60it/s]\n"
     ]
    },
    {
     "name": "stdout",
     "output_type": "stream",
     "text": [
      "Start to download 2023 WRF-HRRR data for counties: ['10003', '22007']\n",
      "Warning: The HRRR data for the following months is not yet available: set()\n",
      "Downloading HRRR data for 202301...\n",
      "✅ Found ┊ model=hrrr ┊ \u001b[3mproduct=sfc\u001b[0m ┊ \u001b[38;2;41;130;13m2023-Jan-01 00:00 UTC\u001b[92m F00\u001b[0m ┊ \u001b[38;2;255;153;0m\u001b[3mGRIB2 @ pando\u001b[0m ┊ \u001b[38;2;255;153;0m\u001b[3mIDX @ pando\u001b[0m\n",
      "👨🏻‍🏭 Created directory: [data/HRRR/hrrr/20230101]\n",
      "✅ Found ┊ model=hrrr ┊ \u001b[3mproduct=sfc\u001b[0m ┊ \u001b[38;2;41;130;13m2023-Jan-01 00:00 UTC\u001b[92m F01\u001b[0m ┊ \u001b[38;2;255;153;0m\u001b[3mGRIB2 @ aws\u001b[0m ┊ \u001b[38;2;255;153;0m\u001b[3mIDX @ aws\u001b[0m\n",
      "✅ Found ┊ model=hrrr ┊ \u001b[3mproduct=sfc\u001b[0m ┊ \u001b[38;2;41;130;13m2023-Jan-01 01:00 UTC\u001b[92m F00\u001b[0m ┊ \u001b[38;2;255;153;0m\u001b[3mGRIB2 @ pando\u001b[0m ┊ \u001b[38;2;255;153;0m\u001b[3mIDX @ pando\u001b[0m\n",
      "✅ Found ┊ model=hrrr ┊ \u001b[3mproduct=sfc\u001b[0m ┊ \u001b[38;2;41;130;13m2023-Jan-01 01:00 UTC\u001b[92m F01\u001b[0m ┊ \u001b[38;2;255;153;0m\u001b[3mGRIB2 @ aws\u001b[0m ┊ \u001b[38;2;255;153;0m\u001b[3mIDX @ aws\u001b[0m\n",
      "✅ Found ┊ model=hrrr ┊ \u001b[3mproduct=sfc\u001b[0m ┊ \u001b[38;2;41;130;13m2023-Jan-01 02:00 UTC\u001b[92m F00\u001b[0m ┊ \u001b[38;2;255;153;0m\u001b[3mGRIB2 @ pando\u001b[0m ┊ \u001b[38;2;255;153;0m\u001b[3mIDX @ pando\u001b[0m\n",
      "✅ Found ┊ model=hrrr ┊ \u001b[3mproduct=sfc\u001b[0m ┊ \u001b[38;2;41;130;13m2023-Jan-01 02:00 UTC\u001b[92m F01\u001b[0m ┊ \u001b[38;2;255;153;0m\u001b[3mGRIB2 @ aws\u001b[0m ┊ \u001b[38;2;255;153;0m\u001b[3mIDX @ aws\u001b[0m\n",
      "✅ Found ┊ model=hrrr ┊ \u001b[3mproduct=sfc\u001b[0m ┊ \u001b[38;2;41;130;13m2023-Jan-01 03:00 UTC\u001b[92m F00\u001b[0m ┊ \u001b[38;2;255;153;0m\u001b[3mGRIB2 @ pando\u001b[0m ┊ \u001b[38;2;255;153;0m\u001b[3mIDX @ pando\u001b[0m\n"
     ]
    }
   ],
   "source": [
    "from cropnet.data_downloader import DataDownloader\n",
    "\n",
    "# Use the \"target_dir\" to specify where the data should be downloaded to\n",
    "downloader = DataDownloader(target_dir=\"./data\")\n",
    "\n",
    "# Download 2022 USDA Soybean data\n",
    "# Note that most of the 2023 USDA data are not yet available\n",
    "downloader.download_USDA(\"Soybean\", fips_codes=[\"10003\", \"22007\"], years=[\"2022\"])\n",
    "\n",
    "# Download the 2023 (the 1st and 2nd quarters) Sentinel-2 Imagery\n",
    "downloader.download_Sentinel2(fips_codes=[\"10003\", \"22007\"], years=[\"2023\"], image_type=\"AG\")\n",
    "downloader.download_Sentinel2(fips_codes=[\"10003\", \"22007\"], years=[\"2023\"], image_type=\"NDVI\")\n",
    "\n",
    "# Download the 2023 (January to July) WRF-HRRR data\n",
    "downloader.download_HRRR(fips_codes=[\"10003\", \"22007\"], years=[\"2023\"])"
   ]
  },
  {
   "cell_type": "code",
   "execution_count": null,
   "id": "bc183084",
   "metadata": {},
   "outputs": [],
   "source": [
    "# Use the \"base_fir\" to specify where the CropNet data is stored\n",
    "retriever = DataRetriever(base_dir=\"/mnt/data/CropNet\")\n",
    "   \n",
    "# Retrieve the 2022 USDA Soybean data\n",
    "usda_data = retriever.retrieve_USDA(crop_type=\"Soybean\", fips_codes=[\"10003\", \"22007\"], years=[\"2022\"])\n",
    "   \n",
    "# Retrieve the 2022 Sentinel-2 Imagery data\n",
    "sentinel2_data = retriever.retrieve_Sentinel2(fips_codes=[\"10003\", \"22007\"], years=[\"2022\"], image_type=\"AG\")\n",
    "sentinel2_data = retriever.retrieve_Sentinel2(fips_codes=[\"10003\", \"22007\"], years=[\"2022\"], image_type=\"NDVI\")\n",
    "   \n",
    "# Retrieve the 2022 WRF-HRRR data\n",
    "hrrr_data = retriever.retrieve_HRRR(fips_codes=[\"10003\",\"22007\"], years=[\"2022\"])"
   ]
  }
 ],
 "metadata": {
  "kernelspec": {
   "display_name": "base",
   "language": "python",
   "name": "python3"
  },
  "language_info": {
   "codemirror_mode": {
    "name": "ipython",
    "version": 3
   },
   "file_extension": ".py",
   "mimetype": "text/x-python",
   "name": "python",
   "nbconvert_exporter": "python",
   "pygments_lexer": "ipython3",
   "version": "3.12.7"
  }
 },
 "nbformat": 4,
 "nbformat_minor": 5
}
