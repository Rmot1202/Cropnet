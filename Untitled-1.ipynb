{
 "cells": [
  {
   "cell_type": "code",
   "execution_count": null,
   "id": "84aaede1",
   "metadata": {},
   "outputs": [
    {
     "name": "stdout",
     "output_type": "stream",
     "text": [
      "Progress: [ 1/1 ], Downloading USDA Data, Year: 2022, Crop: Soybean\n",
      " Downloading Sentinel-2 Imagery (AG), Progress: [1 / 2], FIPS: 10003, State Name: DELAWARE, County Name: New Castle\n",
      "Year Progress: [1 / 1], Downloading 2023's AG Imagery for the county 10003\n"
     ]
    },
    {
     "name": "stderr",
     "output_type": "stream",
     "text": [
      "dates processed: 100%|██████████| 6/6 [00:00<00:00,  8.54it/s]\n",
      "dates processed: 100%|██████████| 6/6 [00:00<00:00, 11.46it/s]\n",
      "dates processed: 100%|██████████| 6/6 [00:00<00:00, 11.42it/s]\n",
      "dates processed: 100%|██████████| 6/6 [00:00<00:00, 11.78it/s]\n"
     ]
    },
    {
     "name": "stdout",
     "output_type": "stream",
     "text": [
      " Downloading Sentinel-2 Imagery (AG), Progress: [2 / 2], FIPS: 22007, State Name: LOUISIANA, County Name: Assumption\n",
      "Year Progress: [1 / 1], Downloading 2023's AG Imagery for the county 22007\n"
     ]
    },
    {
     "name": "stderr",
     "output_type": "stream",
     "text": [
      "dates processed: 100%|██████████| 6/6 [00:00<00:00, 10.06it/s]\n",
      "dates processed: 100%|██████████| 6/6 [00:00<00:00,  9.61it/s]\n",
      "dates processed: 100%|██████████| 6/6 [00:00<00:00, 11.91it/s]\n",
      "dates processed: 100%|██████████| 6/6 [00:00<00:00, 11.92it/s]\n"
     ]
    },
    {
     "name": "stdout",
     "output_type": "stream",
     "text": [
      " Downloading Sentinel-2 Imagery (NDVI), Progress: [1 / 2], FIPS: 10003, State Name: DELAWARE, County Name: New Castle\n",
      "Year Progress: [1 / 1], Downloading 2023's NDVI Imagery for the county 10003\n"
     ]
    },
    {
     "name": "stderr",
     "output_type": "stream",
     "text": [
      "dates processed: 100%|██████████| 6/6 [00:00<00:00, 10.21it/s]\n",
      "dates processed: 100%|██████████| 6/6 [00:00<00:00, 11.61it/s]\n",
      "dates processed: 100%|██████████| 6/6 [00:00<00:00, 11.59it/s]\n",
      "dates processed: 100%|██████████| 6/6 [00:00<00:00, 11.43it/s]\n"
     ]
    },
    {
     "name": "stdout",
     "output_type": "stream",
     "text": [
      " Downloading Sentinel-2 Imagery (NDVI), Progress: [2 / 2], FIPS: 22007, State Name: LOUISIANA, County Name: Assumption\n",
      "Year Progress: [1 / 1], Downloading 2023's NDVI Imagery for the county 22007\n"
     ]
    },
    {
     "name": "stderr",
     "output_type": "stream",
     "text": [
      "dates processed: 100%|██████████| 6/6 [00:00<00:00, 11.62it/s]\n",
      "dates processed: 100%|██████████| 6/6 [00:00<00:00, 11.70it/s]\n",
      "dates processed: 100%|██████████| 6/6 [00:00<00:00, 11.57it/s]\n",
      "dates processed: 100%|██████████| 6/6 [00:00<00:00, 11.47it/s]\n"
     ]
    },
    {
     "name": "stdout",
     "output_type": "stream",
     "text": [
      "✅ Found ┊ model=hrrr ┊ \u001b[3mproduct=sfc\u001b[0m ┊ \u001b[38;2;41;130;13m2023-Jan-01 00:00 UTC\u001b[92m F00\u001b[0m ┊ \u001b[38;2;255;153;0m\u001b[3mGRIB2 @ aws\u001b[0m ┊ \u001b[38;2;255;153;0m\u001b[3mIDX @ aws\u001b[0m\n",
      "✅ File exists, skipping: data/HRRR/realtime_wrf/2023/20230101/hrrr.20230101.00.00.grib2\n",
      "✅ Found ┊ model=hrrr ┊ \u001b[3mproduct=sfc\u001b[0m ┊ \u001b[38;2;41;130;13m2023-Jan-01 01:00 UTC\u001b[92m F00\u001b[0m ┊ \u001b[38;2;255;153;0m\u001b[3mGRIB2 @ aws\u001b[0m ┊ \u001b[38;2;255;153;0m\u001b[3mIDX @ aws\u001b[0m\n",
      "✅ File exists, skipping: data/HRRR/realtime_wrf/2023/20230101/hrrr.20230101.01.00.grib2\n",
      "✅ Found ┊ model=hrrr ┊ \u001b[3mproduct=sfc\u001b[0m ┊ \u001b[38;2;41;130;13m2023-Jan-01 02:00 UTC\u001b[92m F00\u001b[0m ┊ \u001b[38;2;255;153;0m\u001b[3mGRIB2 @ aws\u001b[0m ┊ \u001b[38;2;255;153;0m\u001b[3mIDX @ aws\u001b[0m\n",
      "✅ File exists, skipping: data/HRRR/realtime_wrf/2023/20230101/hrrr.20230101.02.00.grib2\n",
      "✅ Found ┊ model=hrrr ┊ \u001b[3mproduct=sfc\u001b[0m ┊ \u001b[38;2;41;130;13m2023-Jan-01 03:00 UTC\u001b[92m F00\u001b[0m ┊ \u001b[38;2;255;153;0m\u001b[3mGRIB2 @ aws\u001b[0m ┊ \u001b[38;2;255;153;0m\u001b[3mIDX @ aws\u001b[0m\n",
      "👨🏻‍🏭 Created directory: [data/HRRR/realtime_wrf/2023/20230101/hrrr/20230101]\n",
      "✅ Renamed: data/HRRR/realtime_wrf/2023/20230101/hrrr/20230101/hrrr.t03z.wrfsfcf00.grib2 -> data/HRRR/realtime_wrf/2023/20230101/hrrr.20230101.03.00.grib2\n",
      "✅ Found ┊ model=hrrr ┊ \u001b[3mproduct=sfc\u001b[0m ┊ \u001b[38;2;41;130;13m2023-Jan-01 04:00 UTC\u001b[92m F00\u001b[0m ┊ \u001b[38;2;255;153;0m\u001b[3mGRIB2 @ aws\u001b[0m ┊ \u001b[38;2;255;153;0m\u001b[3mIDX @ aws\u001b[0m\n",
      "✅ Renamed: data/HRRR/realtime_wrf/2023/20230101/hrrr/20230101/hrrr.t04z.wrfsfcf00.grib2 -> data/HRRR/realtime_wrf/2023/20230101/hrrr.20230101.04.00.grib2\n",
      "✅ Found ┊ model=hrrr ┊ \u001b[3mproduct=sfc\u001b[0m ┊ \u001b[38;2;41;130;13m2023-Jan-01 05:00 UTC\u001b[92m F00\u001b[0m ┊ \u001b[38;2;255;153;0m\u001b[3mGRIB2 @ aws\u001b[0m ┊ \u001b[38;2;255;153;0m\u001b[3mIDX @ aws\u001b[0m\n",
      "✅ Renamed: data/HRRR/realtime_wrf/2023/20230101/hrrr/20230101/hrrr.t05z.wrfsfcf00.grib2 -> data/HRRR/realtime_wrf/2023/20230101/hrrr.20230101.05.00.grib2\n",
      "✅ Found ┊ model=hrrr ┊ \u001b[3mproduct=sfc\u001b[0m ┊ \u001b[38;2;41;130;13m2023-Jan-01 06:00 UTC\u001b[92m F00\u001b[0m ┊ \u001b[38;2;255;153;0m\u001b[3mGRIB2 @ aws\u001b[0m ┊ \u001b[38;2;255;153;0m\u001b[3mIDX @ aws\u001b[0m\n",
      "✅ Renamed: data/HRRR/realtime_wrf/2023/20230101/hrrr/20230101/hrrr.t06z.wrfsfcf00.grib2 -> data/HRRR/realtime_wrf/2023/20230101/hrrr.20230101.06.00.grib2\n",
      "✅ Found ┊ model=hrrr ┊ \u001b[3mproduct=sfc\u001b[0m ┊ \u001b[38;2;41;130;13m2023-Jan-01 07:00 UTC\u001b[92m F00\u001b[0m ┊ \u001b[38;2;255;153;0m\u001b[3mGRIB2 @ aws\u001b[0m ┊ \u001b[38;2;255;153;0m\u001b[3mIDX @ aws\u001b[0m\n"
     ]
    }
   ],
   "source": [
    "from cropnet.data_downloader import DataDownloader\n",
    "import os\n",
    "from herbie import Herbie\n",
    "from datetime import datetime\n",
    "\n",
    "# Use the \"target_dir\" to specify where the data should be downloaded to\n",
    "downloader = DataDownloader(target_dir=\"./data\")\n",
    "\n",
    "# Download 2022 USDA Soybean data\n",
    "# Note that most of the 2023 USDA data are not yet available\n",
    "downloader.download_USDA(\"Soybean\", fips_codes=[\"10003\", \"22007\"], years=[\"2022\"])\n",
    "\n",
    "# Download the 2023 (the 1st and 2nd quarters) Sentinel-2 Imagery\n",
    "downloader.download_Sentinel2(fips_codes=[\"10003\", \"22007\"], years=[\"2023\"], image_type=\"AG\")\n",
    "downloader.download_Sentinel2(fips_codes=[\"10003\", \"22007\"], years=[\"2023\"], image_type=\"NDVI\")\n",
    "\n",
    "\n",
    "# --- CONFIG ---\n",
    "fips_codes = {\n",
    "    \"10003\": \"DE\",  # Delaware - New Castle\n",
    "    \"22007\": \"LA\",  # Louisiana - Assumption\n",
    "}\n",
    "date = \"2023-01-01\"\n",
    "forecast_hour = \"f00\"  # Initial forecast only\n",
    "\n",
    "# --- MAIN ---\n",
    "for fips, state in fips_codes.items():\n",
    "    output_dir = f\"data/HRRR/realtime_wrf/2023/20230101\"\n",
    "\n",
    "    # Forecast times: 00 UTC to 23 UTC\n",
    "    for hour in range(24):\n",
    "        run_time = datetime.strptime(f\"{date} {hour:02d}\", \"%Y-%m-%d %H\")\n",
    "\n",
    "        # Initialize Herbie\n",
    "        H = Herbie(\n",
    "            date=run_time,\n",
    "            model=\"hrrr\",\n",
    "            product=\"sfc\",\n",
    "            fxx=0,  # f00 forecast\n",
    "            save_dir=output_dir,\n",
    "            verbose=True,\n",
    "        )\n",
    "\n",
    "        # Define output filename\n",
    "        filename = f\"hrrr.{date.replace('-', '')}.{hour:02d}.00.grib2\"\n",
    "        file_path = os.path.join(output_dir, filename)\n",
    "\n",
    "        # Skip if file exists\n",
    "        if os.path.exists(file_path):\n",
    "            print(f\"✅ File exists, skipping: {file_path}\")\n",
    "            continue\n",
    "\n",
    "        # Download the file\n",
    "        try:\n",
    "            # Download and get the original file path\n",
    "            downloaded_file = H.download()\n",
    "\n",
    "            if downloaded_file and os.path.exists(downloaded_file):\n",
    "                final_path = os.path.join(output_dir, f\"hrrr.{run_time:%Y%m%d}.{run_time:%H}.00.grib2\")\n",
    "                os.rename(downloaded_file, final_path)\n",
    "                print(f\"✅ Renamed: {downloaded_file} -> {final_path}\")\n",
    "            else:\n",
    "                print(f\"⚠️ File not found after download: {downloaded_file}\")\n",
    "        except Exception as e:\n",
    "            print(f\"❌ Failed at {file_path}: {e}\")\n",
    "\n"
   ]
  },
  {
   "cell_type": "code",
   "execution_count": 1,
   "id": "bc183084",
   "metadata": {},
   "outputs": [
    {
     "ename": "NameError",
     "evalue": "name 'DataRetriever' is not defined",
     "output_type": "error",
     "traceback": [
      "\u001b[0;31m---------------------------------------------------------------------------\u001b[0m",
      "\u001b[0;31mNameError\u001b[0m                                 Traceback (most recent call last)",
      "Cell \u001b[0;32mIn[1], line 2\u001b[0m\n\u001b[1;32m      1\u001b[0m \u001b[38;5;66;03m# Use the \"base_fir\" to specify where the CropNet data is stored\u001b[39;00m\n\u001b[0;32m----> 2\u001b[0m retriever \u001b[38;5;241m=\u001b[39m DataRetriever(base_dir\u001b[38;5;241m=\u001b[39m\u001b[38;5;124m\"\u001b[39m\u001b[38;5;124m/mnt/data/CropNet\u001b[39m\u001b[38;5;124m\"\u001b[39m)\n\u001b[1;32m      4\u001b[0m \u001b[38;5;66;03m# Retrieve the 2022 USDA Soybean data\u001b[39;00m\n\u001b[1;32m      5\u001b[0m usda_data \u001b[38;5;241m=\u001b[39m retriever\u001b[38;5;241m.\u001b[39mretrieve_USDA(crop_type\u001b[38;5;241m=\u001b[39m\u001b[38;5;124m\"\u001b[39m\u001b[38;5;124mSoybean\u001b[39m\u001b[38;5;124m\"\u001b[39m, fips_codes\u001b[38;5;241m=\u001b[39m[\u001b[38;5;124m\"\u001b[39m\u001b[38;5;124m10003\u001b[39m\u001b[38;5;124m\"\u001b[39m, \u001b[38;5;124m\"\u001b[39m\u001b[38;5;124m22007\u001b[39m\u001b[38;5;124m\"\u001b[39m], years\u001b[38;5;241m=\u001b[39m[\u001b[38;5;124m\"\u001b[39m\u001b[38;5;124m2022\u001b[39m\u001b[38;5;124m\"\u001b[39m])\n",
      "\u001b[0;31mNameError\u001b[0m: name 'DataRetriever' is not defined"
     ]
    }
   ],
   "source": [
    "# Use the \"base_fir\" to specify where the CropNet data is stored\n",
    "retriever = DataRetriever(base_dir=\"/mnt/data/CropNet\")\n",
    "   \n",
    "# Retrieve the 2022 USDA Soybean data\n",
    "usda_data = retriever.retrieve_USDA(crop_type=\"Soybean\", fips_codes=[\"10003\", \"22007\"], years=[\"2022\"])\n",
    "   \n",
    "# Retrieve the 2022 Sentinel-2 Imagery data\n",
    "sentinel2_data = retriever.retrieve_Sentinel2(fips_codes=[\"10003\", \"22007\"], years=[\"2022\"], image_type=\"AG\")\n",
    "sentinel2_data = retriever.retrieve_Sentinel2(fips_codes=[\"10003\", \"22007\"], years=[\"2022\"], image_type=\"NDVI\")\n",
    "   \n",
    "# Retrieve the 2022 WRF-HRRR data\n",
    "hrrr_data = retriever.retrieve_HRRR(fips_codes=[\"10003\",\"22007\"], years=[\"2022\"])"
   ]
  }
 ],
 "metadata": {
  "kernelspec": {
   "display_name": "base",
   "language": "python",
   "name": "python3"
  },
  "language_info": {
   "codemirror_mode": {
    "name": "ipython",
    "version": 3
   },
   "file_extension": ".py",
   "mimetype": "text/x-python",
   "name": "python",
   "nbconvert_exporter": "python",
   "pygments_lexer": "ipython3",
   "version": "3.12.2"
  }
 },
 "nbformat": 4,
 "nbformat_minor": 5
}
